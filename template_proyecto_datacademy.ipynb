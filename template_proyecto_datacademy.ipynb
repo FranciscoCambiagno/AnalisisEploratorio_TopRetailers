{
 "cells": [
  {
   "cell_type": "markdown",
   "source": "# Análisis de los 25 retailers más grandes de Estados Unidos",
   "metadata": {
    "cell_id": "1df879a0-53cd-4031-a50b-2c2fe17304a4",
    "tags": [],
    "is_collapsed": false,
    "deepnote_cell_type": "text-cell-h1"
   }
  },
  {
   "cell_type": "code",
   "metadata": {
    "cell_id": "af274d2a-10ed-4951-bce0-cd047348ffb6",
    "tags": [],
    "deepnote_to_be_reexecuted": false,
    "source_hash": "24b26b86",
    "execution_start": 1652999292514,
    "execution_millis": 2118,
    "deepnote_cell_type": "code",
    "deepnote_cell_height": 135
   },
   "source": "import pandas as pd\nimport numpy as np\nimport matplotlib.pyplot as plt\nimport seaborn as sns",
   "execution_count": null,
   "outputs": []
  },
  {
   "cell_type": "code",
   "metadata": {
    "cell_id": "074dea25-166c-40cf-bb3f-85522beede43",
    "tags": [],
    "deepnote_to_be_reexecuted": false,
    "source_hash": "e83cec79",
    "execution_start": 1652999294667,
    "execution_millis": 54,
    "owner_user_id": "ac77ef14-6c8c-4bff-aefc-8ec69fd75cf9",
    "deepnote_cell_type": "code",
    "deepnote_cell_height": 618
   },
   "source": "df_retailers = pd.read_csv('/work/largest_us_retailers.csv')\ndf_retailers.head(10)",
   "execution_count": null,
   "outputs": [
    {
     "output_type": "execute_result",
     "execution_count": 3,
     "data": {
      "application/vnd.deepnote.dataframe.v3+json": {
       "column_count": 6,
       "row_count": 10,
       "columns": [
        {
         "name": "Company",
         "dtype": "object",
         "stats": {
          "unique_count": 10,
          "nan_count": 0,
          "categories": [
           {
            "name": "Walmart US",
            "count": 1
           },
           {
            "name": "Kroger",
            "count": 1
           },
           {
            "name": "8 others",
            "count": 8
           }
          ]
         }
        },
        {
         "name": "Sales",
         "dtype": "int64",
         "stats": {
          "unique_count": 10,
          "nan_count": 0,
          "min": "56829",
          "max": "658119",
          "histogram": [
           {
            "bin_start": 56829,
            "bin_end": 116958,
            "count": 9
           },
           {
            "bin_start": 116958,
            "bin_end": 177087,
            "count": 0
           },
           {
            "bin_start": 177087,
            "bin_end": 237216,
            "count": 0
           },
           {
            "bin_start": 237216,
            "bin_end": 297345,
            "count": 0
           },
           {
            "bin_start": 297345,
            "bin_end": 357474,
            "count": 0
           },
           {
            "bin_start": 357474,
            "bin_end": 417603,
            "count": 0
           },
           {
            "bin_start": 417603,
            "bin_end": 477732,
            "count": 0
           },
           {
            "bin_start": 477732,
            "bin_end": 537861,
            "count": 0
           },
           {
            "bin_start": 537861,
            "bin_end": 597990,
            "count": 0
           },
           {
            "bin_start": 597990,
            "bin_end": 658119,
            "count": 1
           }
          ]
         }
        },
        {
         "name": "Stores",
         "dtype": "float64",
         "stats": {
          "unique_count": 9,
          "nan_count": 1,
          "min": "495.0",
          "max": "9813.0",
          "histogram": [
           {
            "bin_start": 495,
            "bin_end": 1426.8,
            "count": 1
           },
           {
            "bin_start": 1426.8,
            "bin_end": 2358.6,
            "count": 4
           },
           {
            "bin_start": 2358.6,
            "bin_end": 3290.3999999999996,
            "count": 0
           },
           {
            "bin_start": 3290.3999999999996,
            "bin_end": 4222.2,
            "count": 1
           },
           {
            "bin_start": 4222.2,
            "bin_end": 5154,
            "count": 1
           },
           {
            "bin_start": 5154,
            "bin_end": 6085.799999999999,
            "count": 0
           },
           {
            "bin_start": 6085.799999999999,
            "bin_end": 7017.599999999999,
            "count": 0
           },
           {
            "bin_start": 7017.599999999999,
            "bin_end": 7949.4,
            "count": 0
           },
           {
            "bin_start": 7949.4,
            "bin_end": 8881.199999999999,
            "count": 1
           },
           {
            "bin_start": 8881.199999999999,
            "bin_end": 9813,
            "count": 1
           }
          ]
         }
        },
        {
         "name": "Sales/Avg. Store",
         "dtype": "float64",
         "stats": {
          "unique_count": 9,
          "nan_count": 1,
          "min": "8.825958702",
          "max": "187.7956204",
          "histogram": [
           {
            "bin_start": 8.825958702,
            "bin_end": 26.722924871799997,
            "count": 3
           },
           {
            "bin_start": 26.722924871799997,
            "bin_end": 44.6198910416,
            "count": 4
           },
           {
            "bin_start": 44.6198910416,
            "bin_end": 62.5168572114,
            "count": 0
           },
           {
            "bin_start": 62.5168572114,
            "bin_end": 80.41382338119999,
            "count": 1
           },
           {
            "bin_start": 80.41382338119999,
            "bin_end": 98.31078955099998,
            "count": 0
           },
           {
            "bin_start": 98.31078955099998,
            "bin_end": 116.2077557208,
            "count": 0
           },
           {
            "bin_start": 116.2077557208,
            "bin_end": 134.1047218906,
            "count": 0
           },
           {
            "bin_start": 134.1047218906,
            "bin_end": 152.0016880604,
            "count": 0
           },
           {
            "bin_start": 152.0016880604,
            "bin_end": 169.8986542302,
            "count": 0
           },
           {
            "bin_start": 169.8986542302,
            "bin_end": 187.7956204,
            "count": 1
           }
          ]
         }
        },
        {
         "name": "Store Count Growth",
         "dtype": "float64",
         "stats": {
          "unique_count": 9,
          "nan_count": 1,
          "min": "-0.04437140509",
          "max": "0.2556621881",
          "histogram": [
           {
            "bin_start": -0.04437140509,
            "bin_end": -0.014368045771000003,
            "count": 1
           },
           {
            "bin_start": -0.014368045771000003,
            "bin_end": 0.015635313547999997,
            "count": 4
           },
           {
            "bin_start": 0.015635313547999997,
            "bin_end": 0.045638672867,
            "count": 1
           },
           {
            "bin_start": 0.045638672867,
            "bin_end": 0.07564203218599999,
            "count": 2
           },
           {
            "bin_start": 0.07564203218599999,
            "bin_end": 0.10564539150499999,
            "count": 0
           },
           {
            "bin_start": 0.10564539150499999,
            "bin_end": 0.135648750824,
            "count": 0
           },
           {
            "bin_start": 0.135648750824,
            "bin_end": 0.165652110143,
            "count": 0
           },
           {
            "bin_start": 0.165652110143,
            "bin_end": 0.195655469462,
            "count": 0
           },
           {
            "bin_start": 0.195655469462,
            "bin_end": 0.225658828781,
            "count": 0
           },
           {
            "bin_start": 0.225658828781,
            "bin_end": 0.2556621881,
            "count": 1
           }
          ]
         }
        },
        {
         "name": "Category",
         "dtype": "object",
         "stats": {
          "unique_count": 6,
          "nan_count": 0,
          "categories": [
           {
            "name": "Supercenters",
            "count": 2
           },
           {
            "name": "Grocery",
            "count": 2
           },
           {
            "name": "4 others",
            "count": 6
           }
          ]
         }
        },
        {
         "name": "_deepnote_index_column",
         "dtype": "int64"
        }
       ],
       "rows": [
        {
         "Company": "Walmart US",
         "Sales": 658119,
         "Stores": 4574,
         "Sales/Avg. Store": 65.64972497,
         "Store Count Growth": 0.01284322409,
         "Category": "Supercenters",
         "_deepnote_index_column": 0
        },
        {
         "Company": "Kroger",
         "Sales": 115037,
         "Stores": 3931,
         "Sales/Avg. Store": 30.03184963,
         "Store Count Growth": 0.05388739946,
         "Category": "Grocery",
         "_deepnote_index_column": 1
        },
        {
         "Company": "Costco",
         "Sales": 90048,
         "Stores": 495,
         "Sales/Avg. Store": 187.7956204,
         "Store Count Growth": 0.06681034483,
         "Category": "Warehouse Club",
         "_deepnote_index_column": 2
        },
        {
         "Company": "Home Depot",
         "Sales": 83976,
         "Stores": 1965,
         "Sales/Avg. Store": 42.73587786,
         "Store Count Growth": 0,
         "Category": "Home Improvement",
         "_deepnote_index_column": 3
        },
        {
         "Company": "Walgreen Boots",
         "Sales": 78924,
         "Stores": 8002,
         "Sales/Avg. Store": 9.81092672,
         "Store Count Growth": -0.01051069618,
         "Category": "Drug Stores",
         "_deepnote_index_column": 4
        },
        {
         "Company": "CVS incl. Target",
         "Sales": 77792,
         "Stores": 9813,
         "Sales/Avg. Store": 8.825958702,
         "Store Count Growth": 0.2556621881,
         "Category": "Drug Stores",
         "_deepnote_index_column": 5
        },
        {
         "Company": "Amazon",
         "Sales": 71687,
         "Stores": "nan",
         "Sales/Avg. Store": "nan",
         "Store Count Growth": "nan",
         "Category": "Electronic/Mail Order",
         "_deepnote_index_column": 6
        },
        {
         "Company": "Target",
         "Sales": 71208,
         "Stores": 1772,
         "Sales/Avg. Store": 39.98203257,
         "Store Count Growth": -0.01005586592,
         "Category": "Supercenters",
         "_deepnote_index_column": 7
        },
        {
         "Company": "Lowe's",
         "Sales": 60311,
         "Stores": 1828,
         "Sales/Avg. Store": 33.31179232,
         "Store Count Growth": 0.01952035694,
         "Category": "Home Improvement",
         "_deepnote_index_column": 8
        },
        {
         "Company": "Albertsons",
         "Sales": 56829,
         "Stores": 2326,
         "Sales/Avg. Store": 23.87773109,
         "Store Count Growth": -0.04437140509,
         "Category": "Grocery",
         "_deepnote_index_column": 9
        }
       ]
      },
      "text/plain": "            Company   Sales  Stores  Sales/Avg. Store  Store Count Growth  \\\n0        Walmart US  658119  4574.0         65.649725            0.012843   \n1            Kroger  115037  3931.0         30.031850            0.053887   \n2            Costco   90048   495.0        187.795620            0.066810   \n3        Home Depot   83976  1965.0         42.735878            0.000000   \n4    Walgreen Boots   78924  8002.0          9.810927           -0.010511   \n5  CVS incl. Target   77792  9813.0          8.825959            0.255662   \n6            Amazon   71687     NaN               NaN                 NaN   \n7            Target   71208  1772.0         39.982033           -0.010056   \n8            Lowe's   60311  1828.0         33.311792            0.019520   \n9        Albertsons   56829  2326.0         23.877731           -0.044371   \n\n                Category  \n0           Supercenters  \n1                Grocery  \n2         Warehouse Club  \n3       Home Improvement  \n4            Drug Stores  \n5            Drug Stores  \n6  Electronic/Mail Order  \n7           Supercenters  \n8       Home Improvement  \n9                Grocery  ",
      "text/html": "<div>\n<style scoped>\n    .dataframe tbody tr th:only-of-type {\n        vertical-align: middle;\n    }\n\n    .dataframe tbody tr th {\n        vertical-align: top;\n    }\n\n    .dataframe thead th {\n        text-align: right;\n    }\n</style>\n<table border=\"1\" class=\"dataframe\">\n  <thead>\n    <tr style=\"text-align: right;\">\n      <th></th>\n      <th>Company</th>\n      <th>Sales</th>\n      <th>Stores</th>\n      <th>Sales/Avg. Store</th>\n      <th>Store Count Growth</th>\n      <th>Category</th>\n    </tr>\n  </thead>\n  <tbody>\n    <tr>\n      <th>0</th>\n      <td>Walmart US</td>\n      <td>658119</td>\n      <td>4574.0</td>\n      <td>65.649725</td>\n      <td>0.012843</td>\n      <td>Supercenters</td>\n    </tr>\n    <tr>\n      <th>1</th>\n      <td>Kroger</td>\n      <td>115037</td>\n      <td>3931.0</td>\n      <td>30.031850</td>\n      <td>0.053887</td>\n      <td>Grocery</td>\n    </tr>\n    <tr>\n      <th>2</th>\n      <td>Costco</td>\n      <td>90048</td>\n      <td>495.0</td>\n      <td>187.795620</td>\n      <td>0.066810</td>\n      <td>Warehouse Club</td>\n    </tr>\n    <tr>\n      <th>3</th>\n      <td>Home Depot</td>\n      <td>83976</td>\n      <td>1965.0</td>\n      <td>42.735878</td>\n      <td>0.000000</td>\n      <td>Home Improvement</td>\n    </tr>\n    <tr>\n      <th>4</th>\n      <td>Walgreen Boots</td>\n      <td>78924</td>\n      <td>8002.0</td>\n      <td>9.810927</td>\n      <td>-0.010511</td>\n      <td>Drug Stores</td>\n    </tr>\n    <tr>\n      <th>5</th>\n      <td>CVS incl. Target</td>\n      <td>77792</td>\n      <td>9813.0</td>\n      <td>8.825959</td>\n      <td>0.255662</td>\n      <td>Drug Stores</td>\n    </tr>\n    <tr>\n      <th>6</th>\n      <td>Amazon</td>\n      <td>71687</td>\n      <td>NaN</td>\n      <td>NaN</td>\n      <td>NaN</td>\n      <td>Electronic/Mail Order</td>\n    </tr>\n    <tr>\n      <th>7</th>\n      <td>Target</td>\n      <td>71208</td>\n      <td>1772.0</td>\n      <td>39.982033</td>\n      <td>-0.010056</td>\n      <td>Supercenters</td>\n    </tr>\n    <tr>\n      <th>8</th>\n      <td>Lowe's</td>\n      <td>60311</td>\n      <td>1828.0</td>\n      <td>33.311792</td>\n      <td>0.019520</td>\n      <td>Home Improvement</td>\n    </tr>\n    <tr>\n      <th>9</th>\n      <td>Albertsons</td>\n      <td>56829</td>\n      <td>2326.0</td>\n      <td>23.877731</td>\n      <td>-0.044371</td>\n      <td>Grocery</td>\n    </tr>\n  </tbody>\n</table>\n</div>"
     },
     "metadata": {}
    }
   ]
  },
  {
   "cell_type": "code",
   "metadata": {
    "cell_id": "86af79cf-16d5-457a-bccc-298302763f8e",
    "tags": [],
    "deepnote_to_be_reexecuted": false,
    "source_hash": "7258bec3",
    "execution_start": 1652999294783,
    "execution_millis": 22,
    "deepnote_cell_type": "code",
    "deepnote_cell_height": 518
   },
   "source": "df_retailers.describe()",
   "execution_count": null,
   "outputs": [
    {
     "output_type": "execute_result",
     "execution_count": 4,
     "data": {
      "application/vnd.deepnote.dataframe.v3+json": {
       "column_count": 4,
       "row_count": 8,
       "columns": [
        {
         "name": "Sales",
         "dtype": "float64",
         "stats": {
          "unique_count": 8,
          "nan_count": 0,
          "min": "25.0",
          "max": "658119.0",
          "histogram": [
           {
            "bin_start": 25,
            "bin_end": 65834.4,
            "count": 4
           },
           {
            "bin_start": 65834.4,
            "bin_end": 131643.8,
            "count": 3
           },
           {
            "bin_start": 131643.8,
            "bin_end": 197453.19999999998,
            "count": 0
           },
           {
            "bin_start": 197453.19999999998,
            "bin_end": 263262.6,
            "count": 0
           },
           {
            "bin_start": 263262.6,
            "bin_end": 329072,
            "count": 0
           },
           {
            "bin_start": 329072,
            "bin_end": 394881.39999999997,
            "count": 0
           },
           {
            "bin_start": 394881.39999999997,
            "bin_end": 460690.79999999993,
            "count": 0
           },
           {
            "bin_start": 460690.79999999993,
            "bin_end": 526500.2,
            "count": 0
           },
           {
            "bin_start": 526500.2,
            "bin_end": 592309.6,
            "count": 0
           },
           {
            "bin_start": 592309.6,
            "bin_end": 658119,
            "count": 1
           }
          ]
         }
        },
        {
         "name": "Stores",
         "dtype": "float64",
         "stats": {
          "unique_count": 8,
          "nan_count": 0,
          "min": "23.0",
          "max": "14250.0",
          "histogram": [
           {
            "bin_start": 23,
            "bin_end": 1445.7,
            "count": 3
           },
           {
            "bin_start": 1445.7,
            "bin_end": 2868.4,
            "count": 1
           },
           {
            "bin_start": 2868.4,
            "bin_end": 4291.1,
            "count": 3
           },
           {
            "bin_start": 4291.1,
            "bin_end": 5713.8,
            "count": 0
           },
           {
            "bin_start": 5713.8,
            "bin_end": 7136.5,
            "count": 0
           },
           {
            "bin_start": 7136.5,
            "bin_end": 8559.2,
            "count": 0
           },
           {
            "bin_start": 8559.2,
            "bin_end": 9981.9,
            "count": 0
           },
           {
            "bin_start": 9981.9,
            "bin_end": 11404.6,
            "count": 0
           },
           {
            "bin_start": 11404.6,
            "bin_end": 12827.300000000001,
            "count": 0
           },
           {
            "bin_start": 12827.300000000001,
            "bin_end": 14250,
            "count": 1
           }
          ]
         }
        },
        {
         "name": "Sales/Avg. Store",
         "dtype": "float64",
         "stats": {
          "unique_count": 8,
          "nan_count": 0,
          "min": "1.56391854",
          "max": "187.7956204",
          "histogram": [
           {
            "bin_start": 1.56391854,
            "bin_end": 20.187088726,
            "count": 2
           },
           {
            "bin_start": 20.187088726,
            "bin_end": 38.810258912,
            "count": 3
           },
           {
            "bin_start": 38.810258912,
            "bin_end": 57.433429098000005,
            "count": 2
           },
           {
            "bin_start": 57.433429098000005,
            "bin_end": 76.056599284,
            "count": 0
           },
           {
            "bin_start": 76.056599284,
            "bin_end": 94.67976947,
            "count": 0
           },
           {
            "bin_start": 94.67976947,
            "bin_end": 113.302939656,
            "count": 0
           },
           {
            "bin_start": 113.302939656,
            "bin_end": 131.926109842,
            "count": 0
           },
           {
            "bin_start": 131.926109842,
            "bin_end": 150.549280028,
            "count": 0
           },
           {
            "bin_start": 150.549280028,
            "bin_end": 169.172450214,
            "count": 0
           },
           {
            "bin_start": 169.172450214,
            "bin_end": 187.7956204,
            "count": 1
           }
          ]
         }
        },
        {
         "name": "Store Count Growth",
         "dtype": "float64",
         "stats": {
          "unique_count": 8,
          "nan_count": 0,
          "min": "-0.05951506245",
          "max": "23.0",
          "histogram": [
           {
            "bin_start": -0.05951506245,
            "bin_end": 2.246436443795,
            "count": 7
           },
           {
            "bin_start": 2.246436443795,
            "bin_end": 4.55238795004,
            "count": 0
           },
           {
            "bin_start": 4.55238795004,
            "bin_end": 6.858339456285,
            "count": 0
           },
           {
            "bin_start": 6.858339456285,
            "bin_end": 9.16429096253,
            "count": 0
           },
           {
            "bin_start": 9.16429096253,
            "bin_end": 11.470242468775,
            "count": 0
           },
           {
            "bin_start": 11.470242468775,
            "bin_end": 13.77619397502,
            "count": 0
           },
           {
            "bin_start": 13.77619397502,
            "bin_end": 16.082145481264998,
            "count": 0
           },
           {
            "bin_start": 16.082145481264998,
            "bin_end": 18.38809698751,
            "count": 0
           },
           {
            "bin_start": 18.38809698751,
            "bin_end": 20.694048493755,
            "count": 0
           },
           {
            "bin_start": 20.694048493755,
            "bin_end": 23,
            "count": 1
           }
          ]
         }
        },
        {
         "name": "_deepnote_index_column",
         "dtype": "object"
        }
       ],
       "rows": [
        {
         "Sales": 25,
         "Stores": 23,
         "Sales/Avg. Store": 23,
         "Store Count Growth": 23,
         "_deepnote_index_column": "count"
        },
        {
         "Sales": 71063.08,
         "Stores": 3466.5652173913045,
         "Sales/Avg. Store": 36.87096578552174,
         "Store Count Growth": 0.04023000882013044,
         "_deepnote_index_column": "mean"
        },
        {
         "Sales": 125405.72764395573,
         "Stores": 4038.708713821636,
         "Sales/Avg. Store": 40.62527709398271,
         "Store Count Growth": 0.06855210542240484,
         "_deepnote_index_column": "std"
        },
        {
         "Sales": 16592,
         "Stores": 231,
         "Sales/Avg. Store": 1.56391854,
         "Store Count Growth": -0.05951506245,
         "_deepnote_index_column": "min"
        },
        {
         "Sales": 24402,
         "Stores": 1029,
         "Sales/Avg. Store": 11.263462319999999,
         "Store Count Growth": -0.0018599562365,
         "_deepnote_index_column": "25%"
        },
        {
         "Sales": 34980,
         "Stores": 1828,
         "Sales/Avg. Store": 25.99773328,
         "Store Count Growth": 0.01952035694,
         "_deepnote_index_column": "50%"
        },
        {
         "Sales": 71687,
         "Stores": 4242,
         "Sales/Avg. Store": 41.358955215,
         "Store Count Growth": 0.07893390251,
         "_deepnote_index_column": "75%"
        },
        {
         "Sales": 658119,
         "Stores": 14250,
         "Sales/Avg. Store": 187.7956204,
         "Store Count Growth": 0.2556621881,
         "_deepnote_index_column": "max"
        }
       ]
      },
      "text/plain": "               Sales        Stores  Sales/Avg. Store  Store Count Growth\ncount      25.000000     23.000000         23.000000           23.000000\nmean    71063.080000   3466.565217         36.870966            0.040230\nstd    125405.727644   4038.708714         40.625277            0.068552\nmin     16592.000000    231.000000          1.563919           -0.059515\n25%     24402.000000   1029.000000         11.263462           -0.001860\n50%     34980.000000   1828.000000         25.997733            0.019520\n75%     71687.000000   4242.000000         41.358955            0.078934\nmax    658119.000000  14250.000000        187.795620            0.255662",
      "text/html": "<div>\n<style scoped>\n    .dataframe tbody tr th:only-of-type {\n        vertical-align: middle;\n    }\n\n    .dataframe tbody tr th {\n        vertical-align: top;\n    }\n\n    .dataframe thead th {\n        text-align: right;\n    }\n</style>\n<table border=\"1\" class=\"dataframe\">\n  <thead>\n    <tr style=\"text-align: right;\">\n      <th></th>\n      <th>Sales</th>\n      <th>Stores</th>\n      <th>Sales/Avg. Store</th>\n      <th>Store Count Growth</th>\n    </tr>\n  </thead>\n  <tbody>\n    <tr>\n      <th>count</th>\n      <td>25.000000</td>\n      <td>23.000000</td>\n      <td>23.000000</td>\n      <td>23.000000</td>\n    </tr>\n    <tr>\n      <th>mean</th>\n      <td>71063.080000</td>\n      <td>3466.565217</td>\n      <td>36.870966</td>\n      <td>0.040230</td>\n    </tr>\n    <tr>\n      <th>std</th>\n      <td>125405.727644</td>\n      <td>4038.708714</td>\n      <td>40.625277</td>\n      <td>0.068552</td>\n    </tr>\n    <tr>\n      <th>min</th>\n      <td>16592.000000</td>\n      <td>231.000000</td>\n      <td>1.563919</td>\n      <td>-0.059515</td>\n    </tr>\n    <tr>\n      <th>25%</th>\n      <td>24402.000000</td>\n      <td>1029.000000</td>\n      <td>11.263462</td>\n      <td>-0.001860</td>\n    </tr>\n    <tr>\n      <th>50%</th>\n      <td>34980.000000</td>\n      <td>1828.000000</td>\n      <td>25.997733</td>\n      <td>0.019520</td>\n    </tr>\n    <tr>\n      <th>75%</th>\n      <td>71687.000000</td>\n      <td>4242.000000</td>\n      <td>41.358955</td>\n      <td>0.078934</td>\n    </tr>\n    <tr>\n      <th>max</th>\n      <td>658119.000000</td>\n      <td>14250.000000</td>\n      <td>187.795620</td>\n      <td>0.255662</td>\n    </tr>\n  </tbody>\n</table>\n</div>"
     },
     "metadata": {}
    }
   ]
  },
  {
   "cell_type": "code",
   "metadata": {
    "cell_id": "33213b3b-714c-47f3-af54-2464f46d7f43",
    "tags": [],
    "deepnote_to_be_reexecuted": false,
    "source_hash": "cb99f15b",
    "execution_start": 1652999294845,
    "execution_millis": 0,
    "deepnote_cell_type": "code",
    "deepnote_cell_height": 157,
    "deepnote_output_heights": [
     60
    ]
   },
   "source": "df_retailers.columns",
   "execution_count": null,
   "outputs": [
    {
     "output_type": "execute_result",
     "execution_count": 5,
     "data": {
      "text/plain": "Index(['Company', 'Sales', 'Stores', 'Sales/Avg. Store', 'Store Count Growth',\n       'Category'],\n      dtype='object')"
     },
     "metadata": {}
    }
   ]
  },
  {
   "cell_type": "markdown",
   "source": "Nombre y significado de cada columna:\n- Company (compañía)\n- Sales (ventas en millones de dólares)\n- Stores (cantidad de tiendas físicas)\n- Sales/Avg. Store (promedio de venta por tienda física)\n- Category (categoría)",
   "metadata": {
    "cell_id": "54ffc0fb-0db9-4241-a7a8-6dc5f1ad2c02",
    "tags": [],
    "deepnote_cell_type": "markdown",
    "deepnote_cell_height": 204.34375
   }
  },
  {
   "cell_type": "markdown",
   "source": "## I. Preguntas del negocio",
   "metadata": {
    "cell_id": "cc141631-e246-41c7-a56b-ad74255d674f",
    "tags": [],
    "is_collapsed": false,
    "deepnote_cell_type": "text-cell-h2"
   }
  },
  {
   "cell_type": "markdown",
   "source": "### 1. ¿Cuál es el promedio de ventas sin contar a la compañía dominante?",
   "metadata": {
    "cell_id": "b919b92e-0df3-4f54-b093-c1db040bc4aa",
    "tags": [],
    "deepnote_cell_type": "markdown",
    "deepnote_cell_height": 62
   }
  },
  {
   "cell_type": "code",
   "metadata": {
    "cell_id": "d0684d2b-d018-42ad-9b48-b545aae09eec",
    "tags": [],
    "deepnote_to_be_reexecuted": false,
    "source_hash": "99730c84",
    "execution_start": 1652999294846,
    "execution_millis": 673,
    "deepnote_cell_type": "code",
    "deepnote_cell_height": 1332.375,
    "deepnote_output_heights": [
     349,
     null,
     349
    ]
   },
   "source": "x = df_retailers['Company'][0:6] # Tomo las primeras 6 para que las graficas sean legibles\ny = df_retailers['Sales'][0:6]\n\nplt.bar(x, y)\nplt.xlabel('Companies')\nplt.ylabel('Sales')\nplt.title('Sales per company')\nplt.xticks(rotation='vertical')\nplt.show()\nprint(f\"Promedio total de ventas teniendo en cuenta a la compania dominante: {df_retailers['Sales'].mean()}\")\n\n\ndf_retailers_sinWalmart = df_retailers[df_retailers['Company']!='Walmart US']\n\nx = df_retailers_sinWalmart['Company'][0:6]\ny = df_retailers_sinWalmart['Sales'][0:6]\n\nplt.bar(x, y)\nplt.xlabel('Companies')\nplt.ylabel('Sales')\nplt.title('Sales per company')\nplt.xticks(rotation='vertical')\nplt.show()\nprint(f\"Promedio total de ventas teniendo en cuenta a la compania dominante: {df_retailers_sinWalmart['Sales'].mean()}\")",
   "execution_count": null,
   "outputs": [
    {
     "data": {
      "text/plain": "<Figure size 432x288 with 1 Axes>",
      "image/png": "[encoded data removed]"
     },
     "metadata": {
      "needs_background": "light",
      "image/png": {
       "width": 407,
       "height": 347
      }
     },
     "output_type": "display_data"
    },
    {
     "name": "stdout",
     "text": "Promedio total de ventas teniendo en cuenta a la compania dominante: 71063.08\n",
     "output_type": "stream"
    },
    {
     "data": {
      "text/plain": "<Figure size 432x288 with 1 Axes>",
      "image/png": "[encoded data removed]"
     },
     "metadata": {
      "needs_background": "light",
      "image/png": {
       "width": 407,
       "height": 347
      }
     },
     "output_type": "display_data"
    },
    {
     "name": "stdout",
     "text": "Promedio total de ventas teniendo en cuenta a la compania dominante: 46602.416666666664\n",
     "output_type": "stream"
    }
   ]
  },
  {
   "cell_type": "markdown",
   "source": "##### Aspectos a destacar:\n\nComo se puede observar en el primer grafico, la compania dominante es Walmart US y el promedio total de ventas teniendola en cuneta es de 71,063.08 dolares. Pero una ves que la sacamos de lado, como se ve en el segundo grafico, el promedio total de ventas baja a 46,602.41 dolares, en total bajo 34,42% aproximadamente.",
   "metadata": {
    "cell_id": "31a63594-06bc-4a5f-8f72-addb4ed9ed71",
    "tags": [],
    "deepnote_cell_type": "markdown",
    "deepnote_cell_height": 133.171875
   }
  },
  {
   "cell_type": "markdown",
   "source": "### 2. ¿Cuánto dinero en ventas generó la mayoría de las compañías?",
   "metadata": {
    "cell_id": "1814847a-365e-4bae-9fb9-6bed9b874b37",
    "tags": [],
    "deepnote_cell_type": "markdown",
    "deepnote_cell_height": 62
   }
  },
  {
   "cell_type": "code",
   "metadata": {
    "cell_id": "7c7057cc-813b-4f93-8826-caed6cc738f9",
    "tags": [],
    "deepnote_to_be_reexecuted": false,
    "source_hash": "52436764",
    "execution_start": 1652999295387,
    "execution_millis": 387,
    "deepnote_cell_type": "code",
    "deepnote_cell_height": 800,
    "deepnote_output_heights": [
     264,
     264
    ]
   },
   "source": "plt.boxplot(data=df_retailers_sinWalmart, x='Sales', vert=False)\nplt.xlabel('Sales')\nplt.ylabel('Dispercion')\nplt.show()\n\nplt.hist(data=df_retailers_sinWalmart, x='Sales', bins=7)\nplt.xlabel('Sales')\nplt.ylabel('Count')\nplt.show()",
   "execution_count": null,
   "outputs": [
    {
     "data": {
      "text/plain": "<Figure size 432x288 with 1 Axes>",
      "image/png": "[encoded data removed]"
     },
     "metadata": {
      "needs_background": "light",
      "image/png": {
       "width": 376,
       "height": 262
      }
     },
     "output_type": "display_data"
    },
    {
     "data": {
      "text/plain": "<Figure size 432x288 with 1 Axes>",
      "image/png": "[encoded data removed]"
     },
     "metadata": {
      "needs_background": "light",
      "image/png": {
       "width": 382,
       "height": 262
      }
     },
     "output_type": "display_data"
    }
   ]
  },
  {
   "cell_type": "markdown",
   "source": "##### Aspesctos a destacar:\n\nComo se puede apreciar en el histograma y el grafico de caja, la mayoria de las companias generaron un valor ventas de entre 15mil y 30mil doalers aproximadamante. De lo que podes sacar que la mayor parte de las empresas son tambien las que menor dinero en ventas generan.",
   "metadata": {
    "cell_id": "1682e609-a46c-410a-9110-ee7c8d46ca69",
    "tags": [],
    "deepnote_cell_type": "markdown",
    "deepnote_cell_height": 133.171875
   }
  },
  {
   "cell_type": "markdown",
   "source": "### 3. ¿Cuántas tiendas tiene la mayoría de las compañías?",
   "metadata": {
    "cell_id": "9801295a-a27d-48af-ae87-c653cabd8f67",
    "tags": [],
    "deepnote_cell_type": "markdown",
    "deepnote_cell_height": 62
   }
  },
  {
   "cell_type": "code",
   "metadata": {
    "cell_id": "cfcc2261-f6a1-44d8-b8fa-184eec2a77ff",
    "tags": [],
    "deepnote_to_be_reexecuted": false,
    "source_hash": "b82329ec",
    "execution_start": 1652999295858,
    "execution_millis": 260,
    "deepnote_cell_type": "code",
    "deepnote_cell_height": 413,
    "deepnote_output_heights": [
     21,
     264
    ]
   },
   "source": "sns.histplot(data=df_retailers, x='Stores')",
   "execution_count": null,
   "outputs": [
    {
     "output_type": "execute_result",
     "execution_count": 8,
     "data": {
      "text/plain": "<AxesSubplot:xlabel='Stores', ylabel='Count'>"
     },
     "metadata": {}
    },
    {
     "data": {
      "text/plain": "<Figure size 432x288 with 1 Axes>",
      "image/png": "[encoded data removed]"
     },
     "metadata": {
      "needs_background": "light",
      "image/png": {
       "width": 382,
       "height": 262
      }
     },
     "output_type": "display_data"
    }
   ]
  },
  {
   "cell_type": "markdown",
   "source": "##### Aspectos a destacar:\n\nLa mayoria de las companias tiene entre 200 y 2200 tiendas. De lo que podemos ver que la mayoria de las companias tiene pocas tiendas y eso podria estar relacionado con los insight de la pregunta anterior de que tambien pasaba que la mayoria de las tiendas generaban la menora cantidad de dnero en ventas.\n\n",
   "metadata": {
    "cell_id": "a15edf76-d547-4b38-9be6-209b2f85724a",
    "tags": [],
    "deepnote_cell_type": "markdown",
    "deepnote_cell_height": 133.171875
   }
  },
  {
   "cell_type": "markdown",
   "source": "### 4. ¿La cantidad de tiendas está relacionada con la cantidad de ventas? Es decir, ¿si una empresa tiene más tiendas tendrá más dinero de ventas?",
   "metadata": {
    "cell_id": "c9b5de28-cd12-4088-9bc0-93df660401f3",
    "tags": [],
    "deepnote_cell_type": "markdown",
    "deepnote_cell_height": 94
   }
  },
  {
   "cell_type": "code",
   "metadata": {
    "cell_id": "9c1a9664-404e-4e32-a1d3-6bd4423da56c",
    "tags": [],
    "deepnote_to_be_reexecuted": false,
    "source_hash": "864f02ec",
    "execution_start": 1652999296117,
    "execution_millis": 1071,
    "deepnote_cell_type": "code",
    "deepnote_cell_height": 517,
    "deepnote_output_heights": [
     384
    ]
   },
   "source": "sns.scatterplot(data=df_retailers_sinWalmart, x='Stores', y='Sales', hue='Company')\nplt.legend(bbox_to_anchor=(1.0, 0., 0.5, 1.0))\nplt.show()",
   "execution_count": null,
   "outputs": [
    {
     "data": {
      "text/plain": "<Figure size 432x288 with 1 Axes>",
      "image/png": "[encoded data removed]"
     },
     "metadata": {
      "needs_background": "light",
      "image/png": {
       "width": 570,
       "height": 382
      }
     },
     "output_type": "display_data"
    }
   ]
  },
  {
   "cell_type": "markdown",
   "source": "##### Aspectos a destacar:\n\nComo se puede ver en el grafico la cantidad de tiendas no necesariamente esta relacionada con la cantidad de ventas, tenemos todos los tipos:\n\n- Hay empresas que tiene muchas ventas y pocas tiendas\n- Empresas con pocas ventas y muchas tiendas\n- Empresas con pocas pocas ventas y pocas tiendas\n- Y empresas que tienen una relacion bastante estrecha entre la cantidad de ventas y de tiendas",
   "metadata": {
    "cell_id": "03bbe545-90b2-4b76-bb86-a43d66b978b2",
    "tags": [],
    "deepnote_cell_type": "markdown",
    "deepnote_cell_height": 237.34375
   }
  },
  {
   "cell_type": "markdown",
   "source": "### 5. ¿Cuál es el rango que existe entre las ventas?",
   "metadata": {
    "cell_id": "d296130b-b739-4424-8c5d-8dc8b6fc8ee5",
    "tags": [],
    "deepnote_cell_type": "markdown",
    "deepnote_cell_height": 62
   }
  },
  {
   "cell_type": "code",
   "metadata": {
    "cell_id": "a62709fd-09ca-4b04-93fd-eeb38e193189",
    "tags": [],
    "deepnote_to_be_reexecuted": false,
    "source_hash": "e14c203c",
    "execution_start": 1652999297236,
    "execution_millis": 1106,
    "deepnote_cell_type": "code",
    "deepnote_cell_height": 973.1875,
    "deepnote_output_heights": [
     264,
     319
    ]
   },
   "source": "plt.figure(figsize=(14, 4))\nplt.boxplot(data=df_retailers, x='Sales', vert=False)\nplt.xlabel('Sales')\nplt.ylabel('Dispercion')\nplt.show()\n\nplt.figure(figsize=(14, 5))\nplt.hist(data=df_retailers, x='Sales', bins=20)\nplt.xlabel('Sales')\nplt.ylabel('Count')\nplt.show()\n\nprint(f\"El rango de ventas es de: {df_retailers['Sales'].max() - df_retailers['Sales'].min()}\")",
   "execution_count": null,
   "outputs": [
    {
     "data": {
      "text/plain": "<Figure size 1008x288 with 1 Axes>",
      "image/png": "[encoded data removed]"
     },
     "metadata": {
      "needs_background": "light",
      "image/png": {
       "width": 822,
       "height": 262
      }
     },
     "output_type": "display_data"
    },
    {
     "data": {
      "text/plain": "<Figure size 1008x360 with 1 Axes>",
      "image/png": "[encoded data removed]"
     },
     "metadata": {
      "needs_background": "light",
      "image/png": {
       "width": 829,
       "height": 317
      }
     },
     "output_type": "display_data"
    },
    {
     "name": "stdout",
     "text": "El rango de ventas es de: 641527\n",
     "output_type": "stream"
    }
   ]
  },
  {
   "cell_type": "markdown",
   "source": "##### Aspectos a destacar:\n\nEl rango entre las ventas es de 641,527 dolares de diferencia. Y es un rango tan grande por que consideramos a Walmart US, que es un outlier, como se ve en el grafico de caja. ",
   "metadata": {
    "cell_id": "76d5408f-5e88-4780-a233-5a20cfcf368c",
    "tags": [],
    "deepnote_cell_type": "markdown",
    "deepnote_cell_height": 110.78125
   }
  },
  {
   "cell_type": "markdown",
   "source": "",
   "metadata": {
    "cell_id": "8046d862-3b43-4d2d-8e85-ccaec32dbc3f",
    "tags": [],
    "deepnote_cell_type": "markdown",
    "deepnote_cell_height": 46
   }
  },
  {
   "cell_type": "markdown",
   "source": "### 6. ¿Cuáles son las 5 empresas que más tiendas físicas tienen? ¿Cuáles de ellas están dentro de las 5 empresas que más ventas tuvieron?",
   "metadata": {
    "cell_id": "6c36ddc3-51ef-4017-a6f9-06cbb8b970e4",
    "tags": [],
    "deepnote_cell_type": "markdown",
    "deepnote_cell_height": 94
   }
  },
  {
   "cell_type": "code",
   "metadata": {
    "cell_id": "1295319d-09d0-42f0-9de0-ff0e689f400f",
    "tags": [],
    "deepnote_to_be_reexecuted": false,
    "source_hash": "6e730a9b",
    "execution_start": 1652999297752,
    "execution_millis": 592,
    "deepnote_cell_type": "code",
    "deepnote_cell_height": 1364.375,
    "deepnote_output_heights": [
     349,
     349
    ]
   },
   "source": "df_sorted_stores = df_retailers.sort_values('Stores', ascending=0)\ndf_sorted_sales = df_retailers.sort_values('Sales', ascending=0)\n\nstores = list(df_sorted_stores['Company'][0:5])\nsales = list(df_sorted_sales['Company'][0:5])\n\nestan = []\nfor i in stores:\n    if i in sales:\n        estan.append(i)\n\nplt.bar(data=df_sorted_stores[0:5], x='Company', height='Stores')\nplt.xticks(rotation='vertical')\nplt.xlabel('Companies')\nplt.ylabel('Stores')\nplt.title('Tiendas por compania')\nplt.show()\n\nplt.bar(data=df_sorted_sales[0:5], x='Company', height='Sales')\nplt.xticks(rotation='vertical')\nplt.xlabel('Companies')\nplt.ylabel('Sales')\nplt.title('Ventas por compania')\nplt.show()\n\nprint(f\"Las 5 empresas que mas tiendas fisicas tienen son: {stores}\")\nprint(f\"Y ellas las que estan dentyro de las 5 que mas ventas tuvieron son: {estan}\")",
   "execution_count": null,
   "outputs": [
    {
     "data": {
      "text/plain": "<Figure size 432x288 with 1 Axes>",
      "image/png": "[encoded data removed]"
     },
     "metadata": {
      "needs_background": "light",
      "image/png": {
       "width": 401,
       "height": 347
      }
     },
     "output_type": "display_data"
    },
    {
     "data": {
      "text/plain": "<Figure size 432x288 with 1 Axes>",
      "image/png": "[encoded data removed]"
     },
     "metadata": {
      "needs_background": "light",
      "image/png": {
       "width": 407,
       "height": 347
      }
     },
     "output_type": "display_data"
    },
    {
     "name": "stdout",
     "text": "Las 5 empresas que mas tiendas fisicas tienen son: ['Dollar Tree', 'Dollar General', 'CVS incl. Target', 'Walgreen Boots', 'Walmart US']\nY ellas las que estan dentyro de las 5 que mas ventas tuvieron son: ['Walgreen Boots', 'Walmart US']\n",
     "output_type": "stream"
    }
   ]
  },
  {
   "cell_type": "markdown",
   "source": "##### Aspecto a destacar:\n\nLas 5 empresas que mas tiendas fisicas teinene son Dollar Tree, Dollar General, CVS incl. Target, Walgreen Boots y Walmart US. Y de esas 5 las que estan en el top 5 con mas ventas son Walgreen Boots y Walmart US.",
   "metadata": {
    "cell_id": "dda5dcce-dcb3-4238-b813-02a56617060a",
    "tags": [],
    "deepnote_cell_type": "markdown",
    "deepnote_cell_height": 110.78125
   }
  },
  {
   "cell_type": "markdown",
   "source": "## II. Preguntas opcionales",
   "metadata": {
    "cell_id": "7d1d5db9-ad1d-4081-968b-bea1357e236a",
    "tags": [],
    "deepnote_cell_type": "markdown",
    "deepnote_cell_height": 70
   }
  },
  {
   "cell_type": "markdown",
   "source": "### 7. ¿Qué categoría de compañía generó más ventas?",
   "metadata": {
    "cell_id": "27e5ddcb-8674-4809-844e-8c3442430be1",
    "tags": [],
    "deepnote_cell_type": "markdown",
    "deepnote_cell_height": 62
   }
  },
  {
   "cell_type": "code",
   "metadata": {
    "cell_id": "fcc0ff72-f954-4023-b187-f43c7ecc77ce",
    "tags": [],
    "deepnote_to_be_reexecuted": false,
    "source_hash": "b439af0e",
    "execution_start": 1652999298349,
    "execution_millis": 7,
    "deepnote_table_state": {
     "pageSize": 10,
     "pageIndex": 0,
     "filters": [],
     "sortBy": []
    },
    "deepnote_table_loading": false,
    "deepnote_cell_type": "code",
    "deepnote_cell_height": 816
   },
   "source": "category = np.array(df_retailers['Category']) \nsales = np.array(df_retailers['Sales'])\n\nsum = {}\n\nfor i in range(len(category)):\n    if category[i] in sum:\n        sum[category[i]] = sum.get(category[i]) + sales[i]\n    else:\n        sum[category[i]] = sales[i]\n\ndf = pd.DataFrame([[key, sum[key]] for key in sum.keys()], columns=['Category', 'Sales'])\ndf.sort_values('Sales', ascending=0)",
   "execution_count": null,
   "outputs": [
    {
     "output_type": "execute_result",
     "execution_count": 12,
     "data": {
      "application/vnd.deepnote.dataframe.v3+json": {
       "column_count": 2,
       "row_count": 12,
       "columns": [
        {
         "name": "Category",
         "dtype": "object",
         "stats": {
          "unique_count": 11,
          "nan_count": 1,
          "categories": [
           {
            "name": "Supercenters",
            "count": 1
           },
           {
            "name": "10 others",
            "count": 10
           },
           {
            "name": "Missing",
            "count": 1
           }
          ]
         }
        },
        {
         "name": "Sales",
         "dtype": "int64",
         "stats": {
          "unique_count": 12,
          "nan_count": 0,
          "min": "25012",
          "max": "745919",
          "histogram": [
           {
            "bin_start": 25012,
            "bin_end": 97102.7,
            "count": 8
           },
           {
            "bin_start": 97102.7,
            "bin_end": 169193.4,
            "count": 1
           },
           {
            "bin_start": 169193.4,
            "bin_end": 241284.09999999998,
            "count": 1
           },
           {
            "bin_start": 241284.09999999998,
            "bin_end": 313374.8,
            "count": 1
           },
           {
            "bin_start": 313374.8,
            "bin_end": 385465.5,
            "count": 0
           },
           {
            "bin_start": 385465.5,
            "bin_end": 457556.19999999995,
            "count": 0
           },
           {
            "bin_start": 457556.19999999995,
            "bin_end": 529646.8999999999,
            "count": 0
           },
           {
            "bin_start": 529646.8999999999,
            "bin_end": 601737.6,
            "count": 0
           },
           {
            "bin_start": 601737.6,
            "bin_end": 673828.2999999999,
            "count": 0
           },
           {
            "bin_start": 673828.2999999999,
            "bin_end": 745919,
            "count": 1
           }
          ]
         }
        },
        {
         "name": "_deepnote_index_column",
         "dtype": "int64"
        }
       ],
       "rows": [
        {
         "Category": "Supercenters",
         "Sales": 745919,
         "_deepnote_index_column": 0
        },
        {
         "Category": "Grocery",
         "Sales": 297164,
         "_deepnote_index_column": 1
        },
        {
         "Category": "Drug Stores",
         "Sales": 184202,
         "_deepnote_index_column": 4
        },
        {
         "Category": "Home Improvement",
         "Sales": 144287,
         "_deepnote_index_column": 3
        },
        {
         "Category": "Warehouse Club",
         "Sales": 90048,
         "_deepnote_index_column": 2
        },
        {
         "Category": "Electronic/Mail Order",
         "Sales": 71687,
         "_deepnote_index_column": 5
        },
        {
         "Category": "Warehouse Clubs",
         "Sales": 56828,
         "_deepnote_index_column": 6
        },
        {
         "Category": "Department Stores",
         "Sales": 45088,
         "_deepnote_index_column": 9
        },
        {
         "Category": "Dollar Stores",
         "Sales": 43698,
         "_deepnote_index_column": 11
        },
        {
         "Category": "nan",
         "Sales": 37664,
         "_deepnote_index_column": 7
        }
       ]
      },
      "text/plain": "                 Category   Sales\n0            Supercenters  745919\n1                 Grocery  297164\n4             Drug Stores  184202\n3        Home Improvement  144287\n2          Warehouse Club   90048\n5   Electronic/Mail Order   71687\n6         Warehouse Clubs   56828\n9       Department Stores   45088\n11          Dollar Stores   43698\n7                     NaN   37664\n8             Electronics   34980\n10                Apparel   25012",
      "text/html": "<div>\n<style scoped>\n    .dataframe tbody tr th:only-of-type {\n        vertical-align: middle;\n    }\n\n    .dataframe tbody tr th {\n        vertical-align: top;\n    }\n\n    .dataframe thead th {\n        text-align: right;\n    }\n</style>\n<table border=\"1\" class=\"dataframe\">\n  <thead>\n    <tr style=\"text-align: right;\">\n      <th></th>\n      <th>Category</th>\n      <th>Sales</th>\n    </tr>\n  </thead>\n  <tbody>\n    <tr>\n      <th>0</th>\n      <td>Supercenters</td>\n      <td>745919</td>\n    </tr>\n    <tr>\n      <th>1</th>\n      <td>Grocery</td>\n      <td>297164</td>\n    </tr>\n    <tr>\n      <th>4</th>\n      <td>Drug Stores</td>\n      <td>184202</td>\n    </tr>\n    <tr>\n      <th>3</th>\n      <td>Home Improvement</td>\n      <td>144287</td>\n    </tr>\n    <tr>\n      <th>2</th>\n      <td>Warehouse Club</td>\n      <td>90048</td>\n    </tr>\n    <tr>\n      <th>5</th>\n      <td>Electronic/Mail Order</td>\n      <td>71687</td>\n    </tr>\n    <tr>\n      <th>6</th>\n      <td>Warehouse Clubs</td>\n      <td>56828</td>\n    </tr>\n    <tr>\n      <th>9</th>\n      <td>Department Stores</td>\n      <td>45088</td>\n    </tr>\n    <tr>\n      <th>11</th>\n      <td>Dollar Stores</td>\n      <td>43698</td>\n    </tr>\n    <tr>\n      <th>7</th>\n      <td>NaN</td>\n      <td>37664</td>\n    </tr>\n    <tr>\n      <th>8</th>\n      <td>Electronics</td>\n      <td>34980</td>\n    </tr>\n    <tr>\n      <th>10</th>\n      <td>Apparel</td>\n      <td>25012</td>\n    </tr>\n  </tbody>\n</table>\n</div>"
     },
     "metadata": {}
    }
   ]
  },
  {
   "cell_type": "markdown",
   "source": "##### Aspectos a destacar:\n\nComo se puede ver en el dataframe, la categoria que genero mas ventas es Supercenters.",
   "metadata": {
    "cell_id": "2ef88b36-b48f-4557-a8c8-70de150e2790",
    "tags": [],
    "deepnote_cell_type": "markdown",
    "deepnote_cell_height": 88.390625
   }
  },
  {
   "cell_type": "markdown",
   "source": "### 8. ¿Cuál es la compañía que en relación con su cantidad de tiendas físicas genera más ventas?",
   "metadata": {
    "cell_id": "33668883-9f01-485c-bdf9-822cd13ad952",
    "tags": [],
    "deepnote_cell_type": "markdown",
    "deepnote_cell_height": 94
   }
  },
  {
   "cell_type": "code",
   "metadata": {
    "cell_id": "903008ff-c22d-431e-8130-a954a94b16e8",
    "tags": [],
    "deepnote_to_be_reexecuted": false,
    "source_hash": "7415a24a",
    "execution_start": 1652999298352,
    "execution_millis": 1126,
    "deepnote_table_state": {
     "pageSize": 10,
     "pageIndex": 0,
     "filters": [],
     "sortBy": []
    },
    "deepnote_table_loading": false,
    "deepnote_cell_type": "code",
    "deepnote_cell_height": 621.1875,
    "deepnote_output_heights": [
     384
    ]
   },
   "source": "sns.scatterplot(data=df_retailers_sinWalmart, x='Stores', y='Sales', hue='Company')\nplt.legend(bbox_to_anchor=(1.0, 0., 0.5, 1.0))\nplt.show()\n\ndf = df_retailers.groupby('Company')['Sales/Avg. Store'].sum().sort_values(ascending=False)\nprint(f'La compañía que en relación con su cantidad de tiendas físicas genera más ventas es: {df.index[0]} con un promedio de {df[0]} ventas por tienda')",
   "execution_count": null,
   "outputs": [
    {
     "data": {
      "text/plain": "<Figure size 432x288 with 1 Axes>",
      "image/png": "[encoded data removed]"
     },
     "metadata": {
      "needs_background": "light",
      "image/png": {
       "width": 570,
       "height": 382
      }
     },
     "output_type": "display_data"
    },
    {
     "name": "stdout",
     "text": "La compañía que en relación con su cantidad de tiendas físicas genera más ventas es: Costco con un promedio de 187.7956204 ventas por tienda\n",
     "output_type": "stream"
    }
   ]
  },
  {
   "cell_type": "markdown",
   "source": "##### Aspectos a destacar:\n\nComo se puede ver en el scatterplott, la compania que genera mas ventas en relacion a su cantidad de tiendas fisicas es Costco.",
   "metadata": {
    "cell_id": "3ee2e12b2d234620b50408f3488ebb00",
    "tags": [],
    "deepnote_cell_type": "markdown",
    "deepnote_cell_height": 88.390625
   }
  },
  {
   "cell_type": "markdown",
   "source": "### 9. ¿Cuáles compañías venden de forma exclusivamente online? ¿Sus ventas destacan sobre las que también tienen tiendas físicas?",
   "metadata": {
    "cell_id": "e9a00ffe-de8a-41f0-98e7-67b905d0d14f",
    "tags": [],
    "deepnote_cell_type": "markdown",
    "deepnote_cell_height": 94
   }
  },
  {
   "cell_type": "code",
   "metadata": {
    "cell_id": "cb6d5d30-783d-44af-9c84-f31689cb3487",
    "tags": [],
    "deepnote_to_be_reexecuted": false,
    "source_hash": "94a88979",
    "execution_start": 1652999299490,
    "execution_millis": 292,
    "deepnote_table_state": {
     "pageSize": 10,
     "pageIndex": 0,
     "filters": [],
     "sortBy": []
    },
    "deepnote_table_loading": false,
    "deepnote_cell_type": "code",
    "deepnote_cell_height": 604.1875,
    "deepnote_output_heights": [
     59.5625,
     317,
     264
    ]
   },
   "source": "df = df_retailers.copy(deep=True)\ndf.fillna(0, inplace=True)\n\nonline_stores = np.array(df.query('Stores == 0')['Company'])\nprint(f'Las copmpanias que vende de forma exclusivamente online son: {online_stores}')\n\nsns.barplot(data=df[0:7], x='Company', y='Sales')\nplt.xticks(rotation=45)\nplt.show()",
   "execution_count": null,
   "outputs": [
    {
     "name": "stdout",
     "text": "Las copmpanias que vende de forma exclusivamente online son: ['Amazon' 'Apple incl. Online']\n",
     "output_type": "stream"
    },
    {
     "data": {
      "text/plain": "<Figure size 432x288 with 1 Axes>",
      "image/png": "[encoded data removed]"
     },
     "metadata": {
      "needs_background": "light",
      "image/png": {
       "width": 407,
       "height": 315
      }
     },
     "output_type": "display_data"
    }
   ]
  },
  {
   "cell_type": "markdown",
   "source": "##### Aspectos a destacar:\n\nLas compañias que venden de forma exclusivamente online son Amazon y Apple incl. Online. Y como se ve en el grfico de barras sus ventas no destacan sobre las compañias que tinen tiendas fisicas.",
   "metadata": {
    "cell_id": "0f5033f1e5c04b04b7257618a068910c",
    "tags": [],
    "deepnote_cell_type": "markdown",
    "deepnote_cell_height": 110.78125
   }
  },
  {
   "cell_type": "markdown",
   "source": "<a style='text-decoration:none;line-height:16px;display:flex;color:#5B5B62;padding:10px;justify-content:end;' href='https://deepnote.com?utm_source=created-in-deepnote-cell&projectId=0f7d41a4-45e2-4eb0-8aa6-6adf34adfb1b' target=\"_blank\">\n<img alt='Created in deepnote.com' style='display:inline;max-height:16px;margin:0px;margin-right:7.5px;' src='data:image/svg+xml;base64,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' > </img>\nCreated in <span style='font-weight:600;margin-left:4px;'>Deepnote</span></a>",
   "metadata": {
    "tags": [],
    "created_in_deepnote_cell": true,
    "deepnote_cell_type": "markdown"
   }
  }
 ],
 "nbformat": 4,
 "nbformat_minor": 2,
 "metadata": {
  "orig_nbformat": 2,
  "deepnote": {
   "is_reactive": false
  },
  "deepnote_notebook_id": "85b76ea9-ace4-4c85-8b21-59120be91703",
  "deepnote_execution_queue": []
 }
}